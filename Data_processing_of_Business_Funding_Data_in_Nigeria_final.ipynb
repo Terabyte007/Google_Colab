{
  "nbformat": 4,
  "nbformat_minor": 0,
  "metadata": {
    "colab": {
      "provenance": [],
      "authorship_tag": "ABX9TyOTdlvVAWwIC/UrnPsQCkKA",
      "include_colab_link": true
    },
    "kernelspec": {
      "name": "python3",
      "display_name": "Python 3"
    },
    "language_info": {
      "name": "python"
    }
  },
  "cells": [
    {
      "cell_type": "markdown",
      "metadata": {
        "id": "view-in-github",
        "colab_type": "text"
      },
      "source": [
        "<a href=\"https://colab.research.google.com/github/Terabyte007/Google_Colab/blob/main/Data_processing_of_Business_Funding_Data_in_Nigeria_final.ipynb\" target=\"_parent\"><img src=\"https://colab.research.google.com/assets/colab-badge.svg\" alt=\"Open In Colab\"/></a>"
      ]
    },
    {
      "cell_type": "code",
      "execution_count": 1,
      "metadata": {
        "id": "atvZ4DKSzKj9"
      },
      "outputs": [],
      "source": [
        "# ==============================\n",
        "# Step 1 — Setup & Helpers\n",
        "# ==============================\n",
        "import pandas as pd\n",
        "import numpy as np\n",
        "import re\n",
        "import ast\n",
        "\n",
        "def banner(txt):\n",
        "    print(\"\\n\" + \"=\"*len(txt))\n",
        "    print(txt)\n",
        "    print(\"=\"*len(txt))\n",
        "\n",
        "def nrows(df):\n",
        "    return f\"{len(df):,} rows\""
      ]
    },
    {
      "cell_type": "code",
      "source": [
        "# ==============================\n",
        "# Step 2 — Load dataset (with encoding fallback)\n",
        "# ==============================\n",
        "banner(\"Step 2 — Load dataset\")\n",
        "\n",
        "path = \"/content/Business Funding Data.csv\"  # path for the file\n",
        "\n",
        "try:\n",
        "    df = pd.read_csv(path)\n",
        "except UnicodeDecodeError:\n",
        "    df = pd.read_csv(path, encoding=\"latin1\")\n",
        "\n",
        "print(\"Loaded:\", nrows(df))\n",
        "print(\"Columns:\", list(df.columns))"
      ],
      "metadata": {
        "colab": {
          "base_uri": "https://localhost:8080/"
        },
        "id": "NtZAvhXKzhic",
        "outputId": "1e4366fd-9b37-4483-e4dd-b0068634b4bc"
      },
      "execution_count": 2,
      "outputs": [
        {
          "output_type": "stream",
          "name": "stdout",
          "text": [
            "\n",
            "=====================\n",
            "Step 2 — Load dataset\n",
            "=====================\n",
            "Loaded: 26 rows\n",
            "Columns: ['Website Domain', 'Effective date', 'Found At', 'Financing Type', 'Financing Type Normalized', 'Categories', 'Investors', 'Investors Count', 'Amount', 'Amount Normalized', 'Source Urls']\n"
          ]
        }
      ]
    },
    {
      "cell_type": "code",
      "source": [
        "# ==============================\n",
        "# Step 3 — Standardize column names\n",
        "# ==============================\n",
        "banner(\"Step 3 — Standardize column names\")\n",
        "\n",
        "df.columns = df.columns.str.strip().str.lower().str.replace(\" \", \"_\")\n",
        "print(\"Renamed Columns:\", list(df.columns))"
      ],
      "metadata": {
        "colab": {
          "base_uri": "https://localhost:8080/"
        },
        "id": "sas_hLq_zzVC",
        "outputId": "298a976c-fd2a-466e-ff48-6bc9b9d46ed2"
      },
      "execution_count": 3,
      "outputs": [
        {
          "output_type": "stream",
          "name": "stdout",
          "text": [
            "\n",
            "=================================\n",
            "Step 3 — Standardize column names\n",
            "=================================\n",
            "Renamed Columns: ['website_domain', 'effective_date', 'found_at', 'financing_type', 'financing_type_normalized', 'categories', 'investors', 'investors_count', 'amount', 'amount_normalized', 'source_urls']\n"
          ]
        }
      ]
    },
    {
      "cell_type": "code",
      "source": [
        "# ==============================\n",
        "# Step 4 — Normalize blank tokens\n",
        "# ==============================\n",
        "banner(\"Step 4 — Normalize blank tokens\")\n",
        "\n",
        "df.replace([\"N/A\", \"NA\", \"na\", \"\", \" \", \"—\", \"-\"], np.nan, inplace=True)\n",
        "print(\"Blank tokens replaced with NaN\")"
      ],
      "metadata": {
        "colab": {
          "base_uri": "https://localhost:8080/"
        },
        "id": "khfB-ZDZ0CQ5",
        "outputId": "b5af44a1-90a0-4057-9362-a9099decca31"
      },
      "execution_count": 4,
      "outputs": [
        {
          "output_type": "stream",
          "name": "stdout",
          "text": [
            "\n",
            "===============================\n",
            "Step 4 — Normalize blank tokens\n",
            "===============================\n",
            "Blank tokens replaced with NaN\n"
          ]
        }
      ]
    },
    {
      "cell_type": "code",
      "source": [
        "# ==============================\n",
        "# Step 5 — Fill selected columns with 'unspecified'\n",
        "# ==============================\n",
        "banner(\"Step 5 — Fill selected columns with 'unspecified'\")\n",
        "\n",
        "for col in [\"effective_date\", \"investors\", \"investors_count\", \"financing_type\", \"financing_type_normalized\"]:\n",
        "    if col in df.columns:\n",
        "        df[col] = df[col].fillna(\"unspecified\")\n",
        "\n",
        "print(\"Filled missing values in target columns with 'unspecified'\")"
      ],
      "metadata": {
        "colab": {
          "base_uri": "https://localhost:8080/"
        },
        "id": "8mMj9blF92Of",
        "outputId": "ba261781-9703-400e-d72d-3a45df617193"
      },
      "execution_count": 5,
      "outputs": [
        {
          "output_type": "stream",
          "name": "stdout",
          "text": [
            "\n",
            "=================================================\n",
            "Step 5 — Fill selected columns with 'unspecified'\n",
            "=================================================\n",
            "Filled missing values in target columns with 'unspecified'\n"
          ]
        }
      ]
    },
    {
      "cell_type": "code",
      "source": [
        "# ==============================\n",
        "# Step 6 — Normalize financing_type_normalized from categories\n",
        "# ==============================\n",
        "banner(\"Step 6 — Normalize financing_type_normalized from categories\")\n",
        "\n",
        "def normalize_financing_type(row):\n",
        "    cat = str(row.get(\"categories\")).strip()\n",
        "    if row.get(\"financing_type_normalized\") == \"unspecified\":\n",
        "        if cat == \"['private_equity']\":\n",
        "            return \"private_equity\"\n",
        "        elif cat == \"['debt_financing']\":\n",
        "            return \"debt_financing\"\n",
        "    return row.get(\"financing_type_normalized\")\n",
        "\n",
        "df[\"financing_type_normalized\"] = df.apply(normalize_financing_type, axis=1)\n",
        "print(\"Financing type normalized based on categories\")"
      ],
      "metadata": {
        "colab": {
          "base_uri": "https://localhost:8080/"
        },
        "id": "9L9AXNeo94SL",
        "outputId": "26e57bba-14ec-4b48-c97b-0abed6a59f63"
      },
      "execution_count": 6,
      "outputs": [
        {
          "output_type": "stream",
          "name": "stdout",
          "text": [
            "\n",
            "============================================================\n",
            "Step 6 — Normalize financing_type_normalized from categories\n",
            "============================================================\n",
            "Financing type normalized based on categories\n"
          ]
        }
      ]
    },
    {
      "cell_type": "code",
      "source": [
        "# ==============================\n",
        "# Step 7 — Parse investors into list format\n",
        "# ==============================\n",
        "banner(\"Step 7 — Parse investors into list format\")\n",
        "\n",
        "def parse_investors(val):\n",
        "    if pd.isna(val) or val == \"unspecified\":\n",
        "        return []\n",
        "    return [x.strip() for x in str(val).split(\",\") if x.strip()]\n",
        "\n",
        "df[\"investors_parsed\"] = df[\"investors\"].apply(parse_investors)\n",
        "print(\"Investors parsed into list format\")"
      ],
      "metadata": {
        "colab": {
          "base_uri": "https://localhost:8080/"
        },
        "id": "cm7UXMCi97hm",
        "outputId": "7c77c2dd-3e1b-409a-bebf-7c6668e71cf3"
      },
      "execution_count": 7,
      "outputs": [
        {
          "output_type": "stream",
          "name": "stdout",
          "text": [
            "\n",
            "=========================================\n",
            "Step 7 — Parse investors into list format\n",
            "=========================================\n",
            "Investors parsed into list format\n"
          ]
        }
      ]
    },
    {
      "cell_type": "code",
      "source": [
        "# ==============================\n",
        "# Step 8 — Parse categories into list format\n",
        "# ==============================\n",
        "banner(\"Step 8 — Parse categories into list format\")\n",
        "\n",
        "def parse_categories(val):\n",
        "    if pd.isna(val):\n",
        "        return []\n",
        "    try:\n",
        "        return ast.literal_eval(val) if isinstance(val, str) else val\n",
        "    except:\n",
        "        return []\n",
        "\n",
        "df[\"categories_parsed\"] = df[\"categories\"].apply(parse_categories)\n",
        "print(\"Categories parsed into list format\")"
      ],
      "metadata": {
        "colab": {
          "base_uri": "https://localhost:8080/"
        },
        "id": "dFrw1xhk9_rq",
        "outputId": "1d38f76f-c94c-4ff5-c770-15b6a7711ab2"
      },
      "execution_count": 8,
      "outputs": [
        {
          "output_type": "stream",
          "name": "stdout",
          "text": [
            "\n",
            "==========================================\n",
            "Step 8 — Parse categories into list format\n",
            "==========================================\n",
            "Categories parsed into list format\n"
          ]
        }
      ]
    },
    {
      "cell_type": "code",
      "source": [
        "# ==============================\n",
        "# Step 9 — Reorder parsed columns\n",
        "# ==============================\n",
        "banner(\"Step 9 — Reorder parsed columns\")\n",
        "\n",
        "# Get current column order\n",
        "cols = list(df.columns)\n",
        "\n",
        "# Move categories_parsed after categories\n",
        "if \"categories\" in cols and \"categories_parsed\" in cols:\n",
        "    cols.remove(\"categories_parsed\")\n",
        "    idx = cols.index(\"categories\") + 1\n",
        "    cols.insert(idx, \"categories_parsed\")\n",
        "\n",
        "# Move investors_parsed after investors\n",
        "if \"investors\" in cols and \"investors_parsed\" in cols:\n",
        "    cols.remove(\"investors_parsed\")\n",
        "    idx = cols.index(\"investors\") + 1\n",
        "    cols.insert(idx, \"investors_parsed\")\n",
        "\n",
        "# Apply new column order\n",
        "df = df[cols]\n",
        "\n",
        "print(\"✅ Reordered columns so parsed fields follow originals\")"
      ],
      "metadata": {
        "colab": {
          "base_uri": "https://localhost:8080/"
        },
        "id": "nBJC8oOfA7mk",
        "outputId": "7f7efc6b-248c-4979-dddf-8d175e287e94"
      },
      "execution_count": 9,
      "outputs": [
        {
          "output_type": "stream",
          "name": "stdout",
          "text": [
            "\n",
            "===============================\n",
            "Step 9 — Reorder parsed columns\n",
            "===============================\n",
            "✅ Reordered columns so parsed fields follow originals\n"
          ]
        }
      ]
    },
    {
      "cell_type": "code",
      "source": [
        "# ==============================\n",
        "# Step 10 — Final check\n",
        "# ==============================\n",
        "banner(\"Step 10 — Final check\")\n",
        "\n",
        "print(\"Final shape:\", nrows(df))\n",
        "df[[\"effective_date\", \"investors\", \"investors_parsed\", \"categories\", \"categories_parsed\", \"financing_type_normalized\"]].head()"
      ],
      "metadata": {
        "colab": {
          "base_uri": "https://localhost:8080/",
          "height": 310
        },
        "id": "VbSEjENa-BS4",
        "outputId": "c0448078-7fc3-4469-8437-4f675cd3d9c6"
      },
      "execution_count": 10,
      "outputs": [
        {
          "output_type": "stream",
          "name": "stdout",
          "text": [
            "\n",
            "=====================\n",
            "Step 10 — Final check\n",
            "=====================\n",
            "Final shape: 26 rows\n"
          ]
        },
        {
          "output_type": "execute_result",
          "data": {
            "text/plain": [
              "  effective_date                                          investors  \\\n",
              "0    unspecified                                        unspecified   \n",
              "1    unspecified  avivainvestors.com, lloydsbankinggroup.com, sa...   \n",
              "2    unspecified                                        unspecified   \n",
              "3    unspecified                              stackcapitalgroup.com   \n",
              "4    unspecified                                chevychasetrust.com   \n",
              "\n",
              "                                    investors_parsed          categories  \\\n",
              "0                                                 []                  []   \n",
              "1  [avivainvestors.com, lloydsbankinggroup.com, s...                  []   \n",
              "2                                                 []  [\"private_equity\"]   \n",
              "3                            [stackcapitalgroup.com]                  []   \n",
              "4                              [chevychasetrust.com]                  []   \n",
              "\n",
              "  categories_parsed financing_type_normalized  \n",
              "0                []               unspecified  \n",
              "1                []               unspecified  \n",
              "2  [private_equity]               unspecified  \n",
              "3                []               unspecified  \n",
              "4                []               unspecified  "
            ],
            "text/html": [
              "\n",
              "  <div id=\"df-1868b862-745a-408e-af21-d761cc68ec45\" class=\"colab-df-container\">\n",
              "    <div>\n",
              "<style scoped>\n",
              "    .dataframe tbody tr th:only-of-type {\n",
              "        vertical-align: middle;\n",
              "    }\n",
              "\n",
              "    .dataframe tbody tr th {\n",
              "        vertical-align: top;\n",
              "    }\n",
              "\n",
              "    .dataframe thead th {\n",
              "        text-align: right;\n",
              "    }\n",
              "</style>\n",
              "<table border=\"1\" class=\"dataframe\">\n",
              "  <thead>\n",
              "    <tr style=\"text-align: right;\">\n",
              "      <th></th>\n",
              "      <th>effective_date</th>\n",
              "      <th>investors</th>\n",
              "      <th>investors_parsed</th>\n",
              "      <th>categories</th>\n",
              "      <th>categories_parsed</th>\n",
              "      <th>financing_type_normalized</th>\n",
              "    </tr>\n",
              "  </thead>\n",
              "  <tbody>\n",
              "    <tr>\n",
              "      <th>0</th>\n",
              "      <td>unspecified</td>\n",
              "      <td>unspecified</td>\n",
              "      <td>[]</td>\n",
              "      <td>[]</td>\n",
              "      <td>[]</td>\n",
              "      <td>unspecified</td>\n",
              "    </tr>\n",
              "    <tr>\n",
              "      <th>1</th>\n",
              "      <td>unspecified</td>\n",
              "      <td>avivainvestors.com, lloydsbankinggroup.com, sa...</td>\n",
              "      <td>[avivainvestors.com, lloydsbankinggroup.com, s...</td>\n",
              "      <td>[]</td>\n",
              "      <td>[]</td>\n",
              "      <td>unspecified</td>\n",
              "    </tr>\n",
              "    <tr>\n",
              "      <th>2</th>\n",
              "      <td>unspecified</td>\n",
              "      <td>unspecified</td>\n",
              "      <td>[]</td>\n",
              "      <td>[\"private_equity\"]</td>\n",
              "      <td>[private_equity]</td>\n",
              "      <td>unspecified</td>\n",
              "    </tr>\n",
              "    <tr>\n",
              "      <th>3</th>\n",
              "      <td>unspecified</td>\n",
              "      <td>stackcapitalgroup.com</td>\n",
              "      <td>[stackcapitalgroup.com]</td>\n",
              "      <td>[]</td>\n",
              "      <td>[]</td>\n",
              "      <td>unspecified</td>\n",
              "    </tr>\n",
              "    <tr>\n",
              "      <th>4</th>\n",
              "      <td>unspecified</td>\n",
              "      <td>chevychasetrust.com</td>\n",
              "      <td>[chevychasetrust.com]</td>\n",
              "      <td>[]</td>\n",
              "      <td>[]</td>\n",
              "      <td>unspecified</td>\n",
              "    </tr>\n",
              "  </tbody>\n",
              "</table>\n",
              "</div>\n",
              "    <div class=\"colab-df-buttons\">\n",
              "\n",
              "  <div class=\"colab-df-container\">\n",
              "    <button class=\"colab-df-convert\" onclick=\"convertToInteractive('df-1868b862-745a-408e-af21-d761cc68ec45')\"\n",
              "            title=\"Convert this dataframe to an interactive table.\"\n",
              "            style=\"display:none;\">\n",
              "\n",
              "  <svg xmlns=\"http://www.w3.org/2000/svg\" height=\"24px\" viewBox=\"0 -960 960 960\">\n",
              "    <path d=\"M120-120v-720h720v720H120Zm60-500h600v-160H180v160Zm220 220h160v-160H400v160Zm0 220h160v-160H400v160ZM180-400h160v-160H180v160Zm440 0h160v-160H620v160ZM180-180h160v-160H180v160Zm440 0h160v-160H620v160Z\"/>\n",
              "  </svg>\n",
              "    </button>\n",
              "\n",
              "  <style>\n",
              "    .colab-df-container {\n",
              "      display:flex;\n",
              "      gap: 12px;\n",
              "    }\n",
              "\n",
              "    .colab-df-convert {\n",
              "      background-color: #E8F0FE;\n",
              "      border: none;\n",
              "      border-radius: 50%;\n",
              "      cursor: pointer;\n",
              "      display: none;\n",
              "      fill: #1967D2;\n",
              "      height: 32px;\n",
              "      padding: 0 0 0 0;\n",
              "      width: 32px;\n",
              "    }\n",
              "\n",
              "    .colab-df-convert:hover {\n",
              "      background-color: #E2EBFA;\n",
              "      box-shadow: 0px 1px 2px rgba(60, 64, 67, 0.3), 0px 1px 3px 1px rgba(60, 64, 67, 0.15);\n",
              "      fill: #174EA6;\n",
              "    }\n",
              "\n",
              "    .colab-df-buttons div {\n",
              "      margin-bottom: 4px;\n",
              "    }\n",
              "\n",
              "    [theme=dark] .colab-df-convert {\n",
              "      background-color: #3B4455;\n",
              "      fill: #D2E3FC;\n",
              "    }\n",
              "\n",
              "    [theme=dark] .colab-df-convert:hover {\n",
              "      background-color: #434B5C;\n",
              "      box-shadow: 0px 1px 3px 1px rgba(0, 0, 0, 0.15);\n",
              "      filter: drop-shadow(0px 1px 2px rgba(0, 0, 0, 0.3));\n",
              "      fill: #FFFFFF;\n",
              "    }\n",
              "  </style>\n",
              "\n",
              "    <script>\n",
              "      const buttonEl =\n",
              "        document.querySelector('#df-1868b862-745a-408e-af21-d761cc68ec45 button.colab-df-convert');\n",
              "      buttonEl.style.display =\n",
              "        google.colab.kernel.accessAllowed ? 'block' : 'none';\n",
              "\n",
              "      async function convertToInteractive(key) {\n",
              "        const element = document.querySelector('#df-1868b862-745a-408e-af21-d761cc68ec45');\n",
              "        const dataTable =\n",
              "          await google.colab.kernel.invokeFunction('convertToInteractive',\n",
              "                                                    [key], {});\n",
              "        if (!dataTable) return;\n",
              "\n",
              "        const docLinkHtml = 'Like what you see? Visit the ' +\n",
              "          '<a target=\"_blank\" href=https://colab.research.google.com/notebooks/data_table.ipynb>data table notebook</a>'\n",
              "          + ' to learn more about interactive tables.';\n",
              "        element.innerHTML = '';\n",
              "        dataTable['output_type'] = 'display_data';\n",
              "        await google.colab.output.renderOutput(dataTable, element);\n",
              "        const docLink = document.createElement('div');\n",
              "        docLink.innerHTML = docLinkHtml;\n",
              "        element.appendChild(docLink);\n",
              "      }\n",
              "    </script>\n",
              "  </div>\n",
              "\n",
              "\n",
              "    <div id=\"df-041598ec-4e80-430a-99a2-2f7c1458d39d\">\n",
              "      <button class=\"colab-df-quickchart\" onclick=\"quickchart('df-041598ec-4e80-430a-99a2-2f7c1458d39d')\"\n",
              "                title=\"Suggest charts\"\n",
              "                style=\"display:none;\">\n",
              "\n",
              "<svg xmlns=\"http://www.w3.org/2000/svg\" height=\"24px\"viewBox=\"0 0 24 24\"\n",
              "     width=\"24px\">\n",
              "    <g>\n",
              "        <path d=\"M19 3H5c-1.1 0-2 .9-2 2v14c0 1.1.9 2 2 2h14c1.1 0 2-.9 2-2V5c0-1.1-.9-2-2-2zM9 17H7v-7h2v7zm4 0h-2V7h2v10zm4 0h-2v-4h2v4z\"/>\n",
              "    </g>\n",
              "</svg>\n",
              "      </button>\n",
              "\n",
              "<style>\n",
              "  .colab-df-quickchart {\n",
              "      --bg-color: #E8F0FE;\n",
              "      --fill-color: #1967D2;\n",
              "      --hover-bg-color: #E2EBFA;\n",
              "      --hover-fill-color: #174EA6;\n",
              "      --disabled-fill-color: #AAA;\n",
              "      --disabled-bg-color: #DDD;\n",
              "  }\n",
              "\n",
              "  [theme=dark] .colab-df-quickchart {\n",
              "      --bg-color: #3B4455;\n",
              "      --fill-color: #D2E3FC;\n",
              "      --hover-bg-color: #434B5C;\n",
              "      --hover-fill-color: #FFFFFF;\n",
              "      --disabled-bg-color: #3B4455;\n",
              "      --disabled-fill-color: #666;\n",
              "  }\n",
              "\n",
              "  .colab-df-quickchart {\n",
              "    background-color: var(--bg-color);\n",
              "    border: none;\n",
              "    border-radius: 50%;\n",
              "    cursor: pointer;\n",
              "    display: none;\n",
              "    fill: var(--fill-color);\n",
              "    height: 32px;\n",
              "    padding: 0;\n",
              "    width: 32px;\n",
              "  }\n",
              "\n",
              "  .colab-df-quickchart:hover {\n",
              "    background-color: var(--hover-bg-color);\n",
              "    box-shadow: 0 1px 2px rgba(60, 64, 67, 0.3), 0 1px 3px 1px rgba(60, 64, 67, 0.15);\n",
              "    fill: var(--button-hover-fill-color);\n",
              "  }\n",
              "\n",
              "  .colab-df-quickchart-complete:disabled,\n",
              "  .colab-df-quickchart-complete:disabled:hover {\n",
              "    background-color: var(--disabled-bg-color);\n",
              "    fill: var(--disabled-fill-color);\n",
              "    box-shadow: none;\n",
              "  }\n",
              "\n",
              "  .colab-df-spinner {\n",
              "    border: 2px solid var(--fill-color);\n",
              "    border-color: transparent;\n",
              "    border-bottom-color: var(--fill-color);\n",
              "    animation:\n",
              "      spin 1s steps(1) infinite;\n",
              "  }\n",
              "\n",
              "  @keyframes spin {\n",
              "    0% {\n",
              "      border-color: transparent;\n",
              "      border-bottom-color: var(--fill-color);\n",
              "      border-left-color: var(--fill-color);\n",
              "    }\n",
              "    20% {\n",
              "      border-color: transparent;\n",
              "      border-left-color: var(--fill-color);\n",
              "      border-top-color: var(--fill-color);\n",
              "    }\n",
              "    30% {\n",
              "      border-color: transparent;\n",
              "      border-left-color: var(--fill-color);\n",
              "      border-top-color: var(--fill-color);\n",
              "      border-right-color: var(--fill-color);\n",
              "    }\n",
              "    40% {\n",
              "      border-color: transparent;\n",
              "      border-right-color: var(--fill-color);\n",
              "      border-top-color: var(--fill-color);\n",
              "    }\n",
              "    60% {\n",
              "      border-color: transparent;\n",
              "      border-right-color: var(--fill-color);\n",
              "    }\n",
              "    80% {\n",
              "      border-color: transparent;\n",
              "      border-right-color: var(--fill-color);\n",
              "      border-bottom-color: var(--fill-color);\n",
              "    }\n",
              "    90% {\n",
              "      border-color: transparent;\n",
              "      border-bottom-color: var(--fill-color);\n",
              "    }\n",
              "  }\n",
              "</style>\n",
              "\n",
              "      <script>\n",
              "        async function quickchart(key) {\n",
              "          const quickchartButtonEl =\n",
              "            document.querySelector('#' + key + ' button');\n",
              "          quickchartButtonEl.disabled = true;  // To prevent multiple clicks.\n",
              "          quickchartButtonEl.classList.add('colab-df-spinner');\n",
              "          try {\n",
              "            const charts = await google.colab.kernel.invokeFunction(\n",
              "                'suggestCharts', [key], {});\n",
              "          } catch (error) {\n",
              "            console.error('Error during call to suggestCharts:', error);\n",
              "          }\n",
              "          quickchartButtonEl.classList.remove('colab-df-spinner');\n",
              "          quickchartButtonEl.classList.add('colab-df-quickchart-complete');\n",
              "        }\n",
              "        (() => {\n",
              "          let quickchartButtonEl =\n",
              "            document.querySelector('#df-041598ec-4e80-430a-99a2-2f7c1458d39d button');\n",
              "          quickchartButtonEl.style.display =\n",
              "            google.colab.kernel.accessAllowed ? 'block' : 'none';\n",
              "        })();\n",
              "      </script>\n",
              "    </div>\n",
              "\n",
              "    </div>\n",
              "  </div>\n"
            ],
            "application/vnd.google.colaboratory.intrinsic+json": {
              "type": "dataframe",
              "summary": "{\n  \"name\": \"df[[\\\"effective_date\\\", \\\"investors\\\", \\\"investors_parsed\\\", \\\"categories\\\", \\\"categories_parsed\\\", \\\"financing_type_normalized\\\"]]\",\n  \"rows\": 5,\n  \"fields\": [\n    {\n      \"column\": \"effective_date\",\n      \"properties\": {\n        \"dtype\": \"category\",\n        \"num_unique_values\": 1,\n        \"samples\": [\n          \"unspecified\"\n        ],\n        \"semantic_type\": \"\",\n        \"description\": \"\"\n      }\n    },\n    {\n      \"column\": \"investors\",\n      \"properties\": {\n        \"dtype\": \"string\",\n        \"num_unique_values\": 4,\n        \"samples\": [\n          \"avivainvestors.com, lloydsbankinggroup.com, santander.co.uk, swip.com, cibc.com, societegenerale.com, natwest.us, rabobank.com, mufg.jp\"\n        ],\n        \"semantic_type\": \"\",\n        \"description\": \"\"\n      }\n    },\n    {\n      \"column\": \"investors_parsed\",\n      \"properties\": {\n        \"dtype\": \"object\",\n        \"semantic_type\": \"\",\n        \"description\": \"\"\n      }\n    },\n    {\n      \"column\": \"categories\",\n      \"properties\": {\n        \"dtype\": \"category\",\n        \"num_unique_values\": 2,\n        \"samples\": [\n          \"[\\\"private_equity\\\"]\"\n        ],\n        \"semantic_type\": \"\",\n        \"description\": \"\"\n      }\n    },\n    {\n      \"column\": \"categories_parsed\",\n      \"properties\": {\n        \"dtype\": \"object\",\n        \"semantic_type\": \"\",\n        \"description\": \"\"\n      }\n    },\n    {\n      \"column\": \"financing_type_normalized\",\n      \"properties\": {\n        \"dtype\": \"category\",\n        \"num_unique_values\": 1,\n        \"samples\": [\n          \"unspecified\"\n        ],\n        \"semantic_type\": \"\",\n        \"description\": \"\"\n      }\n    }\n  ]\n}"
            }
          },
          "metadata": {},
          "execution_count": 10
        }
      ]
    },
    {
      "cell_type": "code",
      "source": [
        "# ==============================\n",
        "# Step 11 — Save & Quick QA\n",
        "# ==============================\n",
        "banner(\"Step 11 — Save & Quick QA\")\n",
        "\n",
        "out_path = \"/content/Business_Funding_Data_Cleaned_afeez.csv\"\n",
        "df.to_csv(out_path, index=False)\n",
        "print(f\"✅ Saved: {out_path}\")\n",
        "print(\"Final shape:\", nrows(df))\n",
        "print(\"\\nMissing values by column:\")\n",
        "print(df.isna().sum())"
      ],
      "metadata": {
        "colab": {
          "base_uri": "https://localhost:8080/"
        },
        "id": "AzjU_7Ph-_Os",
        "outputId": "bcf1aac5-1cb8-4083-c372-4bf1f747542a"
      },
      "execution_count": 15,
      "outputs": [
        {
          "output_type": "stream",
          "name": "stdout",
          "text": [
            "\n",
            "=========================\n",
            "Step 11 — Save & Quick QA\n",
            "=========================\n",
            "✅ Saved: /content/Business_Funding_Data_Cleaned_afeez.csv\n",
            "Final shape: 26 rows\n",
            "\n",
            "Missing values by column:\n",
            "website_domain               0\n",
            "effective_date               0\n",
            "found_at                     0\n",
            "financing_type               0\n",
            "financing_type_normalized    0\n",
            "categories                   0\n",
            "categories_parsed            0\n",
            "investors                    0\n",
            "investors_parsed             0\n",
            "investors_count              0\n",
            "amount                       0\n",
            "amount_normalized            0\n",
            "source_urls                  0\n",
            "dtype: int64\n",
            "\n",
            "Top financing types:\n",
            "financing_type_normalized\n",
            "unspecified    18\n",
            "seed            4\n",
            "series_b        1\n",
            "series_i        1\n",
            "series_a2       1\n",
            "Name: count, dtype: int64\n"
          ]
        }
      ]
    },
    {
      "cell_type": "code",
      "source": [
        "# ==============================\n",
        "# Step 12 — Download cleaned CSV to your computer\n",
        "# ==============================\n",
        "banner(\"Step 12 — Download cleaned CSV to your computer\")\n",
        "\n",
        "from google.colab import files\n",
        "files.download(\"/content/Business_Funding_Data_Cleaned_afeez.csv\")"
      ],
      "metadata": {
        "colab": {
          "base_uri": "https://localhost:8080/",
          "height": 17
        },
        "id": "jVeKtGdf_KFY",
        "outputId": "8a9abd51-1976-44bd-a7cc-a29eb1c0d78b"
      },
      "execution_count": 13,
      "outputs": [
        {
          "output_type": "display_data",
          "data": {
            "text/plain": [
              "<IPython.core.display.Javascript object>"
            ],
            "application/javascript": [
              "\n",
              "    async function download(id, filename, size) {\n",
              "      if (!google.colab.kernel.accessAllowed) {\n",
              "        return;\n",
              "      }\n",
              "      const div = document.createElement('div');\n",
              "      const label = document.createElement('label');\n",
              "      label.textContent = `Downloading \"${filename}\": `;\n",
              "      div.appendChild(label);\n",
              "      const progress = document.createElement('progress');\n",
              "      progress.max = size;\n",
              "      div.appendChild(progress);\n",
              "      document.body.appendChild(div);\n",
              "\n",
              "      const buffers = [];\n",
              "      let downloaded = 0;\n",
              "\n",
              "      const channel = await google.colab.kernel.comms.open(id);\n",
              "      // Send a message to notify the kernel that we're ready.\n",
              "      channel.send({})\n",
              "\n",
              "      for await (const message of channel.messages) {\n",
              "        // Send a message to notify the kernel that we're ready.\n",
              "        channel.send({})\n",
              "        if (message.buffers) {\n",
              "          for (const buffer of message.buffers) {\n",
              "            buffers.push(buffer);\n",
              "            downloaded += buffer.byteLength;\n",
              "            progress.value = downloaded;\n",
              "          }\n",
              "        }\n",
              "      }\n",
              "      const blob = new Blob(buffers, {type: 'application/binary'});\n",
              "      const a = document.createElement('a');\n",
              "      a.href = window.URL.createObjectURL(blob);\n",
              "      a.download = filename;\n",
              "      div.appendChild(a);\n",
              "      a.click();\n",
              "      div.remove();\n",
              "    }\n",
              "  "
            ]
          },
          "metadata": {}
        },
        {
          "output_type": "display_data",
          "data": {
            "text/plain": [
              "<IPython.core.display.Javascript object>"
            ],
            "application/javascript": [
              "download(\"download_4cb4623a-6161-4dd2-80bb-5d66a4cfb68e\", \"Business_Funding_Data_Cleaned_afeez.csv\", 8279)"
            ]
          },
          "metadata": {}
        }
      ]
    },
    {
      "cell_type": "markdown",
      "source": [
        "# 🧾 Assignment Reflection: Business Funding Data in Nigeria\n",
        "\n",
        "## 🔍 Observations from Exploring the Data\n",
        "\n",
        "- Several columns contained missing values, inconsistent formats, or placeholder strings like `\"N/A\"`.\n",
        "- The `categories` and `investors` columns appeared to contain list-like data but were stored as raw strings, limiting usability.\n",
        "- Currency values were messy, with different symbols and formats, and some entries lacked normalized amounts.\n",
        "- Some fields like `financing_type_normalized` were blank even when `categories` clearly indicated the funding type.\n",
        "- The dataset included both Nigerian and non-Nigerian businesses, but filtering was not the focus of this task.\n",
        "\n",
        "---\n",
        "\n",
        "## 🧹 Steps Taken to Clean, Preprocess, and Transform the Data\n",
        "\n",
        "1. **Standardized column names** to lowercase with underscores for consistency.\n",
        "2. **Replaced common blank tokens** (`\"N/A\"`, `\"NA\"`, `\"\"`, etc.) with `NaN` to unify missing value handling.\n",
        "3. **Filled selected columns** (`effective_date`, `investors`, `investors_count`, `financing_type`, `financing_type_normalized`) with `\"unspecified\"` where data was missing.\n",
        "4. **Inferred financing type** from `categories` when it was clearly `\"private_equity\"` or `\"debt_financing\"`.\n",
        "5. **Parsed `investors`** from comma-separated strings into clean Python lists (`investors_parsed`).\n",
        "6. **Parsed `categories`** using `ast.literal_eval` to convert stringified lists into usable Python lists (`categories_parsed`).\n",
        "7. **Reordered columns** so that parsed fields (`investors_parsed`, `categories_parsed`) appear directly after their originals.\n",
        "8. **Saved the cleaned dataset** and provided a quick QA summary.\n",
        "9. **Enabled download** of the final CSV for local use.\n",
        "\n",
        "---\n",
        "\n",
        "## ✅ Justifications for Each Technique\n",
        "\n",
        "- **Standardizing column names** improves readability and prevents errors in code referencing.\n",
        "- **Replacing blank tokens** ensures consistent missing value detection across the dataset.\n",
        "- **Using `\"unspecified\"`** preserves rows while clearly marking missing or unknown data without introducing bias.\n",
        "- **Inferring financing types** from `categories` adds structure and fills gaps using logical relationships.\n",
        "- **Parsing list-like fields** unlocks powerful operations like filtering, counting, and grouping.\n",
        "- **Reordering columns** enhances readability and keeps related data together.\n",
        "- **Exporting and downloading** the cleaned file ensures portability and reproducibility.\n",
        "\n",
        "---\n",
        "\n",
        "## 💡 Reflections on the Importance of Preprocessing\n",
        "\n",
        "Preprocessing is the foundation of reliable data analysis. Raw data is often messy, inconsistent and incomplete, without proper cleaning, any insights or models built on it can be misleading or outright wrong. This assignment highlights how thoughtful preprocessing transforms unusable data into a structured, analyzable asset. It’s not just about fixing errors, it’s about unlocking the full potential of the dataset.\n",
        "\n"
      ],
      "metadata": {
        "id": "EHfoLO67IHYN"
      }
    }
  ]
}